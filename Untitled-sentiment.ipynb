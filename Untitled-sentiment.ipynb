{
 "cells": [
  {
   "cell_type": "code",
   "execution_count": 24,
   "metadata": {},
   "outputs": [],
   "source": [
    "# Importing essential libraries and functions\n",
    "\n",
    "import pandas as pd\n",
    "import numpy as np\n",
    "import re\n",
    "import nltk\n",
    "from nltk.corpus import stopwords\n",
    "from numpy import array\n",
    "import sklearn\n",
    "from numpy import asarray\n",
    "from numpy import zeros\n",
    "import os\n",
    "from keras.preprocessing.text import one_hot, Tokenizer\n",
    "from keras.utils import pad_sequences\n",
    "from keras.models import Sequential\n",
    "from keras.layers.core import Activation, Dropout, Dense\n",
    "from keras.layers import Flatten, GlobalMaxPooling1D, Embedding, Conv1D, LSTM\n",
    "from sklearn.model_selection import train_test_split\n"
   ]
  },
  {
   "cell_type": "code",
   "execution_count": 2,
   "metadata": {},
   "outputs": [],
   "source": [
    "twitter_data=pd.read_csv(\"E:\\PROJECTS\\Sentiment Analysis\\Twitter_Data.csv\\Twitter_Data.csv\")"
   ]
  },
  {
   "cell_type": "code",
   "execution_count": 3,
   "metadata": {},
   "outputs": [
    {
     "data": {
      "text/plain": [
       "<bound method NDFrame.head of                                                clean_text  category\n",
       "0       when modi promised “minimum government maximum...      -1.0\n",
       "1       talk all the nonsense and continue all the dra...       0.0\n",
       "2       what did just say vote for modi  welcome bjp t...       1.0\n",
       "3       asking his supporters prefix chowkidar their n...       1.0\n",
       "4       answer who among these the most powerful world...       1.0\n",
       "...                                                   ...       ...\n",
       "162975  why these 456 crores paid neerav modi not reco...      -1.0\n",
       "162976  dear rss terrorist payal gawar what about modi...      -1.0\n",
       "162977  did you cover her interaction forum where she ...       0.0\n",
       "162978  there big project came into india modi dream p...       0.0\n",
       "162979  have you ever listen about like gurukul where ...       1.0\n",
       "\n",
       "[162980 rows x 2 columns]>"
      ]
     },
     "execution_count": 3,
     "metadata": {},
     "output_type": "execute_result"
    }
   ],
   "source": [
    "twitter_data.shape\n",
    "twitter_data.head"
   ]
  },
  {
   "cell_type": "code",
   "execution_count": 4,
   "metadata": {},
   "outputs": [
    {
     "data": {
      "text/plain": [
       "True"
      ]
     },
     "execution_count": 4,
     "metadata": {},
     "output_type": "execute_result"
    }
   ],
   "source": [
    "twitter_data.isnull().values.any()"
   ]
  },
  {
   "cell_type": "code",
   "execution_count": 5,
   "metadata": {},
   "outputs": [
    {
     "data": {
      "text/html": [
       "<div>\n",
       "<style scoped>\n",
       "    .dataframe tbody tr th:only-of-type {\n",
       "        vertical-align: middle;\n",
       "    }\n",
       "\n",
       "    .dataframe tbody tr th {\n",
       "        vertical-align: top;\n",
       "    }\n",
       "\n",
       "    .dataframe thead th {\n",
       "        text-align: right;\n",
       "    }\n",
       "</style>\n",
       "<table border=\"1\" class=\"dataframe\">\n",
       "  <thead>\n",
       "    <tr style=\"text-align: right;\">\n",
       "      <th></th>\n",
       "      <th>clean_text</th>\n",
       "      <th>category</th>\n",
       "    </tr>\n",
       "  </thead>\n",
       "  <tbody>\n",
       "    <tr>\n",
       "      <th>0</th>\n",
       "      <td>when modi promised “minimum government maximum...</td>\n",
       "      <td>-1.0</td>\n",
       "    </tr>\n",
       "    <tr>\n",
       "      <th>1</th>\n",
       "      <td>talk all the nonsense and continue all the dra...</td>\n",
       "      <td>0.0</td>\n",
       "    </tr>\n",
       "    <tr>\n",
       "      <th>2</th>\n",
       "      <td>what did just say vote for modi  welcome bjp t...</td>\n",
       "      <td>1.0</td>\n",
       "    </tr>\n",
       "    <tr>\n",
       "      <th>3</th>\n",
       "      <td>asking his supporters prefix chowkidar their n...</td>\n",
       "      <td>1.0</td>\n",
       "    </tr>\n",
       "    <tr>\n",
       "      <th>4</th>\n",
       "      <td>answer who among these the most powerful world...</td>\n",
       "      <td>1.0</td>\n",
       "    </tr>\n",
       "    <tr>\n",
       "      <th>...</th>\n",
       "      <td>...</td>\n",
       "      <td>...</td>\n",
       "    </tr>\n",
       "    <tr>\n",
       "      <th>162975</th>\n",
       "      <td>why these 456 crores paid neerav modi not reco...</td>\n",
       "      <td>-1.0</td>\n",
       "    </tr>\n",
       "    <tr>\n",
       "      <th>162976</th>\n",
       "      <td>dear rss terrorist payal gawar what about modi...</td>\n",
       "      <td>-1.0</td>\n",
       "    </tr>\n",
       "    <tr>\n",
       "      <th>162977</th>\n",
       "      <td>did you cover her interaction forum where she ...</td>\n",
       "      <td>0.0</td>\n",
       "    </tr>\n",
       "    <tr>\n",
       "      <th>162978</th>\n",
       "      <td>there big project came into india modi dream p...</td>\n",
       "      <td>0.0</td>\n",
       "    </tr>\n",
       "    <tr>\n",
       "      <th>162979</th>\n",
       "      <td>have you ever listen about like gurukul where ...</td>\n",
       "      <td>1.0</td>\n",
       "    </tr>\n",
       "  </tbody>\n",
       "</table>\n",
       "<p>162980 rows × 2 columns</p>\n",
       "</div>"
      ],
      "text/plain": [
       "                                               clean_text category\n",
       "0       when modi promised “minimum government maximum...     -1.0\n",
       "1       talk all the nonsense and continue all the dra...      0.0\n",
       "2       what did just say vote for modi  welcome bjp t...      1.0\n",
       "3       asking his supporters prefix chowkidar their n...      1.0\n",
       "4       answer who among these the most powerful world...      1.0\n",
       "...                                                   ...      ...\n",
       "162975  why these 456 crores paid neerav modi not reco...     -1.0\n",
       "162976  dear rss terrorist payal gawar what about modi...     -1.0\n",
       "162977  did you cover her interaction forum where she ...      0.0\n",
       "162978  there big project came into india modi dream p...      0.0\n",
       "162979  have you ever listen about like gurukul where ...      1.0\n",
       "\n",
       "[162980 rows x 2 columns]"
      ]
     },
     "execution_count": 5,
     "metadata": {},
     "output_type": "execute_result"
    }
   ],
   "source": [
    "twitter_data.fillna(\"not avai\")"
   ]
  },
  {
   "cell_type": "code",
   "execution_count": 14,
   "metadata": {},
   "outputs": [
    {
     "data": {
      "text/plain": [
       "clean_text    0\n",
       "category      0\n",
       "dtype: int64"
      ]
     },
     "execution_count": 14,
     "metadata": {},
     "output_type": "execute_result"
    }
   ],
   "source": [
    "twitter_data.isna().sum()"
   ]
  },
  {
   "cell_type": "code",
   "execution_count": 13,
   "metadata": {},
   "outputs": [],
   "source": [
    "twitter_data.dropna(axis=0,how='any',inplace=True)\n"
   ]
  },
  {
   "cell_type": "code",
   "execution_count": 8,
   "metadata": {},
   "outputs": [
    {
     "data": {
      "text/plain": [
       "<Axes: xlabel='category', ylabel='count'>"
      ]
     },
     "execution_count": 8,
     "metadata": {},
     "output_type": "execute_result"
    },
    {
     "data": {
      "image/png": "[encoded data removed]",
      "text/plain": [
       "<Figure size 432x288 with 1 Axes>"
      ]
     },
     "metadata": {
      "needs_background": "light"
     },
     "output_type": "display_data"
    }
   ],
   "source": [
    "import seaborn as sns\n",
    "sns.countplot(x='category',data=twitter_data)"
   ]
  },
  {
   "attachments": {},
   "cell_type": "markdown",
   "metadata": {},
   "source": [
    "DATA PROCESSING"
   ]
  },
  {
   "cell_type": "code",
   "execution_count": 9,
   "metadata": {},
   "outputs": [
    {
     "data": {
      "text/plain": [
       "'can you please explain source fund for this scheme modi promises from black money'"
      ]
     },
     "execution_count": 9,
     "metadata": {},
     "output_type": "execute_result"
    }
   ],
   "source": [
    "#print a review\n",
    "twitter_data['clean_text'][4585]"
   ]
  },
  {
   "cell_type": "code",
   "execution_count": 10,
   "metadata": {},
   "outputs": [
    {
     "name": "stderr",
     "output_type": "stream",
     "text": [
      "[nltk_data] Downloading package stopwords to\n",
      "[nltk_data]     C:\\Users\\91798\\AppData\\Roaming\\nltk_data...\n",
      "[nltk_data]   Package stopwords is already up-to-date!\n"
     ]
    },
    {
     "data": {
      "text/plain": [
       "True"
      ]
     },
     "execution_count": 10,
     "metadata": {},
     "output_type": "execute_result"
    }
   ],
   "source": [
    "nltk.download('stopwords')"
   ]
  },
  {
   "cell_type": "code",
   "execution_count": 11,
   "metadata": {},
   "outputs": [],
   "source": [
    "def preprocess_text(sen):\n",
    "    '''Cleans text data up, leaving only 2 or more char long non-stepwords composed of A-Z & a-z only\n",
    "    in lowercase'''\n",
    "    \n",
    "    topic = sen.lower()\n",
    "\n",
    "    # Remove html tags\n",
    "   # sentence = remove_tags(sentence)\n",
    "\n",
    "    # Remove punctuations and numbers\n",
    "    topic = re.sub('[^a-zA-Z]', ' ', topic)\n",
    "\n",
    "    # Single character removal\n",
    "    topic = re.sub(r\"\\s+[a-zA-Z]\\s+\", ' ', topic)  # When we remove apostrophe from the word \"Mark's\", the apostrophe is replaced by an empty space. Hence, we are left with single character \"s\" that we are removing here.\n",
    "\n",
    "    # Remove multiple spaces\n",
    "    topic = re.sub(r'\\s+', ' ', topic)  # Next, we remove all the single characters and replace it by a space which creates multiple spaces in our text. Finally, we remove the multiple spaces from our text as well.\n",
    "\n",
    "    # Remove Stopwords\n",
    "    pattern = re.compile(r'\\b(' + r'|'.join(stopwords.words('english')) + r')\\b\\s*')\n",
    "    topic = pattern.sub('', topic)\n",
    "\n",
    "    return topic"
   ]
  },
  {
   "cell_type": "code",
   "execution_count": 15,
   "metadata": {},
   "outputs": [],
   "source": [
    "#using above function\n",
    "\n",
    "new=[]\n",
    "topic=list(twitter_data['clean_text'])\n",
    "for i in topic:\n",
    "    new.append(preprocess_text(i))"
   ]
  },
  {
   "cell_type": "code",
   "execution_count": 16,
   "metadata": {},
   "outputs": [
    {
     "data": {
      "text/plain": [
       "'asking supporters prefix chowkidar names modi great service confusion read crustal clear crass filthy nonsensical see abuses coming chowkidars'"
      ]
     },
     "execution_count": 16,
     "metadata": {},
     "output_type": "execute_result"
    }
   ],
   "source": [
    "new[3]"
   ]
  },
  {
   "cell_type": "code",
   "execution_count": 17,
   "metadata": {},
   "outputs": [],
   "source": [
    "y=twitter_data['category']"
   ]
  },
  {
   "cell_type": "code",
   "execution_count": 18,
   "metadata": {},
   "outputs": [],
   "source": [
    "new_train, new_test, y_train, y_test = train_test_split(new, y, test_size=0.20, random_state=42)\n"
   ]
  },
  {
   "attachments": {},
   "cell_type": "markdown",
   "metadata": {},
   "source": [
    "tokenizer "
   ]
  },
  {
   "cell_type": "code",
   "execution_count": 19,
   "metadata": {},
   "outputs": [],
   "source": [
    "twitter_token=Tokenizer()\n",
    "twitter_token.fit_on_texts(new_train)\n",
    "new_train=twitter_token.texts_to_sequences(new_train)\n",
    "new_test=twitter_token.texts_to_sequences(new_test)"
   ]
  },
  {
   "cell_type": "code",
   "execution_count": 20,
   "metadata": {},
   "outputs": [
    {
     "data": {
      "text/plain": [
       "[[122],\n",
       " [1218, 31, 1694, 295, 954, 80, 5295, 393, 18, 31, 2892, 5492, 310, 408],\n",
       " [58,\n",
       "  2350,\n",
       "  1,\n",
       "  5825,\n",
       "  677,\n",
       "  3006,\n",
       "  1375,\n",
       "  183,\n",
       "  11856,\n",
       "  55,\n",
       "  405,\n",
       "  1889,\n",
       "  11857,\n",
       "  17964,\n",
       "  4012,\n",
       "  557,\n",
       "  1370,\n",
       "  402,\n",
       "  155,\n",
       "  1261,\n",
       "  93,\n",
       "  1784,\n",
       "  4987,\n",
       "  46,\n",
       "  40]]"
      ]
     },
     "execution_count": 20,
     "metadata": {},
     "output_type": "execute_result"
    }
   ],
   "source": [
    "new_train[1:4]"
   ]
  },
  {
   "cell_type": "code",
   "execution_count": 21,
   "metadata": {},
   "outputs": [
    {
     "data": {
      "text/plain": [
       "87441"
      ]
     },
     "execution_count": 21,
     "metadata": {},
     "output_type": "execute_result"
    }
   ],
   "source": [
    "#VOCAB shows no of unique word\n",
    "\n",
    "voc_len=len(twitter_token.word_index)+1\n",
    "voc_len"
   ]
  },
  {
   "cell_type": "code",
   "execution_count": 22,
   "metadata": {},
   "outputs": [],
   "source": [
    "#pad all reviews \n",
    "pad_len=150\n",
    "new_train=pad_sequences(new_train,padding='post',maxlen=pad_len)\n",
    "new_test=pad_sequences(new_test,padding='post',maxlen=pad_len)"
   ]
  },
  {
   "cell_type": "code",
   "execution_count": 25,
   "metadata": {},
   "outputs": [],
   "source": [
    "#creating a dictionary using global vector \n",
    "\n",
    "embed_dict=dict()\n",
    "glove=open(\"E:\\PROJECTS\\Sentiment Analysis\\glove.twitter.27B\\glove.twitter.27B.100d.txt\",encoding=\"utf8\")\n",
    "\n",
    "for sent in glove:\n",
    "    record=sent.split()\n",
    "    word=record[0]\n",
    "    dimension=asarray(record[1:],dtype='float64')\n",
    "    embed_dict[word]=dimension\n",
    "glove.close()"
   ]
  },
  {
   "cell_type": "code",
   "execution_count": 29,
   "metadata": {},
   "outputs": [],
   "source": [
    "#embeding matrix with 100 colm as we used 100d glove\n",
    "\n",
    "embed_matrix=zeros((voc_len,100))\n",
    "for word,index in twitter_token.word_index.items():\n",
    "    embed_vect=embed_dict.get(word)\n",
    "    if embed_vect is not None:\n",
    "        embed_matrix[index]=embed_vect\n",
    "\n"
   ]
  },
  {
   "attachments": {},
   "cell_type": "markdown",
   "metadata": {},
   "source": [
    "TRAINING A LSTM network"
   ]
  },
  {
   "cell_type": "code",
   "execution_count": 32,
   "metadata": {},
   "outputs": [],
   "source": [
    "lstmrnn=Sequential()\n",
    "embed_layer=Embedding(voc_len,100,weights=[embed_matrix],input_length=pad_len,trainable=False)\n",
    "#as we are using pre trained glove so trainable = false\n",
    "\n",
    "lstmrnn.add(embed_layer)\n",
    "lstmrnn.add(LSTM(200))\n",
    "\n",
    "lstmrnn.add(Dense(1,activation='sigmoid'))\n"
   ]
  },
  {
   "cell_type": "code",
   "execution_count": 33,
   "metadata": {},
   "outputs": [
    {
     "name": "stdout",
     "output_type": "stream",
     "text": [
      "Model: \"sequential_1\"\n",
      "_________________________________________________________________\n",
      " Layer (type)                Output Shape              Param #   \n",
      "=================================================================\n",
      " embedding_1 (Embedding)     (None, 150, 100)          8744100   \n",
      "                                                                 \n",
      " lstm_1 (LSTM)               (None, 200)               240800    \n",
      "                                                                 \n",
      " dense_1 (Dense)             (None, 1)                 201       \n",
      "                                                                 \n",
      "=================================================================\n",
      "Total params: 8,985,101\n",
      "Trainable params: 241,001\n",
      "Non-trainable params: 8,744,100\n",
      "_________________________________________________________________\n",
      "None\n"
     ]
    }
   ],
   "source": [
    "lstmrnn.compile(optimizer='adam',loss='binary_crossentropy',metrics=['acc'])\n",
    "summ=lstmrnn.summary()\n",
    "print(summ)"
   ]
  },
  {
   "cell_type": "code",
   "execution_count": 34,
   "metadata": {},
   "outputs": [
    {
     "name": "stdout",
     "output_type": "stream",
     "text": [
      "Epoch 1/10\n",
      "457/457 [==============================] - 314s 679ms/step - loss: 0.5481 - acc: 0.3380 - val_loss: 0.5379 - val_acc: 0.3408\n",
      "Epoch 2/10\n",
      "457/457 [==============================] - 309s 677ms/step - loss: 0.5351 - acc: 0.3377 - val_loss: 0.5363 - val_acc: 0.3408\n",
      "Epoch 3/10\n",
      "457/457 [==============================] - 296s 648ms/step - loss: 0.5348 - acc: 0.3377 - val_loss: 0.5387 - val_acc: 0.3408\n",
      "Epoch 4/10\n",
      "457/457 [==============================] - 473s 1s/step - loss: 0.5351 - acc: 0.3377 - val_loss: 0.5364 - val_acc: 0.3408\n",
      "Epoch 5/10\n",
      "457/457 [==============================] - 541s 1s/step - loss: 0.5353 - acc: 0.3377 - val_loss: 0.5364 - val_acc: 0.3408\n",
      "Epoch 6/10\n",
      "457/457 [==============================] - 380s 832ms/step - loss: 0.5349 - acc: 0.3377 - val_loss: 0.5367 - val_acc: 0.3408\n",
      "Epoch 7/10\n",
      "457/457 [==============================] - 357s 782ms/step - loss: 0.5354 - acc: 0.3377 - val_loss: 0.5363 - val_acc: 0.3408\n",
      "Epoch 8/10\n",
      "457/457 [==============================] - 324s 709ms/step - loss: 0.5351 - acc: 0.3377 - val_loss: 0.5374 - val_acc: 0.3408\n",
      "Epoch 9/10\n",
      "457/457 [==============================] - 282s 617ms/step - loss: 0.5349 - acc: 0.3377 - val_loss: 0.5367 - val_acc: 0.3408\n",
      "Epoch 10/10\n",
      "457/457 [==============================] - 282s 617ms/step - loss: 0.5349 - acc: 0.3377 - val_loss: 0.5370 - val_acc: 0.3408\n"
     ]
    }
   ],
   "source": [
    "#train the model\n",
    "\n",
    "lstmrnn_model=lstmrnn.fit(new_train,y_train,batch_size=200,epochs=10,verbose=1,validation_split=0.3)"
   ]
  },
  {
   "cell_type": "code",
   "execution_count": 36,
   "metadata": {},
   "outputs": [
    {
     "name": "stdout",
     "output_type": "stream",
     "text": [
      "1019/1019 [==============================] - 65s 63ms/step - loss: 0.5303 - acc: 0.3395\n"
     ]
    }
   ],
   "source": [
    "score = lstmrnn.evaluate(new_test, y_test, verbose=1)"
   ]
  },
  {
   "cell_type": "code",
   "execution_count": 37,
   "metadata": {},
   "outputs": [
    {
     "name": "stdout",
     "output_type": "stream",
     "text": [
      "Test Score: 0.5303027033805847\n",
      "Test Accuracy: 0.3395410180091858\n"
     ]
    }
   ],
   "source": [
    "# Model Performance\n",
    "\n",
    "print(\"Test Score:\", score[0])\n",
    "print(\"Test Accuracy:\", score[1])"
   ]
  },
  {
   "cell_type": "code",
   "execution_count": 38,
   "metadata": {},
   "outputs": [
    {
     "data": {
      "image/png": "[encoded data removed]",
      "text/plain": [
       "<Figure size 432x288 with 1 Axes>"
      ]
     },
     "metadata": {
      "needs_background": "light"
     },
     "output_type": "display_data"
    },
    {
     "data": {
      "image/png": "[encoded data removed]",
      "text/plain": [
       "<Figure size 432x288 with 1 Axes>"
      ]
     },
     "metadata": {
      "needs_background": "light"
     },
     "output_type": "display_data"
    }
   ],
   "source": [
    "# Model Performance Charts\n",
    "\n",
    "import matplotlib.pyplot as plt\n",
    "\n",
    "plt.plot(lstmrnn_model.history['acc'])\n",
    "plt.plot(lstmrnn_model.history['val_acc'])\n",
    "\n",
    "plt.title('model accuracy')\n",
    "plt.ylabel('accuracy')\n",
    "plt.xlabel('epoch')\n",
    "plt.legend(['train','test'], loc='upper left')\n",
    "plt.show()\n",
    "\n",
    "plt.plot(lstmrnn_model.history['loss'])\n",
    "plt.plot(lstmrnn_model.history['val_loss'])\n",
    "\n",
    "plt.title('model loss')\n",
    "plt.ylabel('loss')\n",
    "plt.xlabel('epoch')\n",
    "plt.legend(['train','test'], loc='upper left')\n",
    "plt.show()"
   ]
  },
  {
   "cell_type": "code",
   "execution_count": 40,
   "metadata": {},
   "outputs": [],
   "source": [
    "# Saving the model as a h5 file for possible use later\n",
    "\n",
    "lstmrnn.save(f\"./c1_lstm_model_acc_{round(score[1], 3)}.h5\", save_format='h5')"
   ]
  }
 ],
 "metadata": {
  "kernelspec": {
   "display_name": "base",
   "language": "python",
   "name": "python3"
  },
  "language_info": {
   "codemirror_mode": {
    "name": "ipython",
    "version": 3
   },
   "file_extension": ".py",
   "mimetype": "text/x-python",
   "name": "python",
   "nbconvert_exporter": "python",
   "pygments_lexer": "ipython3",
   "version": "3.10.9"
  },
  "orig_nbformat": 4
 },
 "nbformat": 4,
 "nbformat_minor": 2
}
